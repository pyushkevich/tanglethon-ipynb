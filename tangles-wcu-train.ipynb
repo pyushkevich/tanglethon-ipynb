{
 "cells": [
  {
   "cell_type": "markdown",
   "metadata": {},
   "source": [
    "# Tangles-CNN Training Notebook"
   ]
  },
  {
   "cell_type": "code",
   "execution_count": 1,
   "metadata": {},
   "outputs": [
    {
     "name": "stdout",
     "output_type": "stream",
     "text": [
      "PyTorch Version:  1.0.0\n",
      "Torchvision Version:  0.2.2\n",
      "CUDA status:  True\n",
      "CUDA memory max alloc:        0 MB\n"
     ]
    }
   ],
   "source": [
    "from __future__ import print_function\n",
    "from __future__ import division\n",
    "import torch\n",
    "import torch.nn as nn\n",
    "import torch.optim as optim\n",
    "import numpy as np\n",
    "import torchvision\n",
    "from torchvision import datasets, models, transforms\n",
    "import matplotlib.pyplot as plt\n",
    "import time\n",
    "import os\n",
    "import copy\n",
    "import sys\n",
    "print(\"PyTorch Version: \",torch.__version__)\n",
    "print(\"Torchvision Version: \",torchvision.__version__)\n",
    "print(\"CUDA status: \", torch.cuda.is_available())\n",
    "print(\"CUDA memory max alloc: %8.f MB\" % (torch.cuda.max_memory_allocated() / 2.0**20))"
   ]
  },
  {
   "cell_type": "code",
   "execution_count": 2,
   "metadata": {},
   "outputs": [],
   "source": [
    "# Import wildcat\n",
    "sys.path.append(\"wildcat.pytorch\")\n",
    "import wildcat.models\n",
    "from unet_wildcat import *"
   ]
  },
  {
   "cell_type": "code",
   "execution_count": 9,
   "metadata": {},
   "outputs": [],
   "source": [
    "# Top level data directory. Here we assume the format of the directory conforms\n",
    "#   to the ImageFolder structure\n",
    "fold = \"fold_HNL-29-18\"\n",
    "data_dir = \"/home/pyushkevich/data/thon2019/exp01/%s\" % (fold,)\n",
    "\n",
    "# Number of classes in the dataset\n",
    "num_classes = 2\n",
    "\n",
    "# Batch size for training (change depending on how much memory you have)\n",
    "batch_size = 16\n",
    "\n",
    "# Number of epochs to train for\n",
    "num_epochs = 30\n",
    "\n",
    "# Input image size\n",
    "input_size = 224"
   ]
  },
  {
   "cell_type": "code",
   "execution_count": 4,
   "metadata": {},
   "outputs": [],
   "source": [
    "# Or use their initialization method\n",
    "model=resnet50_wildcat_upsample(2, pretrained=True, kmax=0.02, kmin=0.0, alpha=0.7, num_maps=4)\n",
    "# model=resnet50_wildcat_upsample(2, pretrained=True, kmax=0.05, kmin=0.02, alpha=0.5, num_maps=2)"
   ]
  },
  {
   "cell_type": "code",
   "execution_count": 5,
   "metadata": {},
   "outputs": [],
   "source": [
    "# Loss and optimizer\n",
    "criterion = nn.MultiLabelSoftMarginLoss()\n",
    "optimizer = torch.optim.SGD(model.get_config_optim(0.01, 0.1), lr=0.01, momentum=0.9, weight_decay=1e-4)\n",
    "\n",
    "# Transforms for training and validation\n",
    "data_transforms = {\n",
    "    'train': transforms.Compose([\n",
    "        transforms.RandomResizedCrop(input_size),\n",
    "        transforms.RandomRotation(45),\n",
    "        transforms.RandomVerticalFlip(),\n",
    "        transforms.RandomHorizontalFlip(),\n",
    "        transforms.ToTensor(),\n",
    "        transforms.Normalize([0.485, 0.456, 0.406], [0.229, 0.224, 0.225])\n",
    "    ]),\n",
    "    'val': transforms.Compose([\n",
    "        transforms.Resize(input_size),\n",
    "        transforms.CenterCrop(input_size),\n",
    "        transforms.ToTensor(),\n",
    "        transforms.Normalize([0.485, 0.456, 0.406], [0.229, 0.224, 0.225])\n",
    "    ]),\n",
    "}\n",
    "\n",
    "# Training and validation dataloaders\n",
    "image_datasets = {x: datasets.ImageFolder(os.path.join(data_dir, x), data_transforms[x]) for x in ['train', 'val']}\n",
    "dataloaders_dict = {x: torch.utils.data.DataLoader(image_datasets[x], batch_size=batch_size, shuffle=True, num_workers=4) for x in ['train', 'val']}"
   ]
  },
  {
   "cell_type": "code",
   "execution_count": 6,
   "metadata": {},
   "outputs": [
    {
     "name": "stdout",
     "output_type": "stream",
     "text": [
      "Device:  cuda:0\n"
     ]
    }
   ],
   "source": [
    "# Map model and criterior to device\n",
    "# Detect if we have a GPU available\n",
    "device = torch.device(\"cuda:0\" if torch.cuda.is_available() else \"cpu\")\n",
    "print(\"Device: \", device)\n",
    "\n",
    "model = model.to(device)\n",
    "criterion = criterion.to(device)"
   ]
  },
  {
   "cell_type": "code",
   "execution_count": 7,
   "metadata": {},
   "outputs": [],
   "source": [
    "# Standard training code\n",
    "def train_model(model, dataloaders, criterion, optimizer, num_epochs=25):\n",
    "    since = time.time()\n",
    "\n",
    "    val_acc_history = []\n",
    "\n",
    "    best_model_wts = copy.deepcopy(model.state_dict())\n",
    "    best_acc = 0.0\n",
    "\n",
    "    for epoch in range(num_epochs):\n",
    "        print('Epoch {}/{}'.format(epoch, num_epochs - 1))\n",
    "        print('-' * 10)\n",
    "\n",
    "        # Each epoch has a training and validation phase\n",
    "        for phase in ['train', 'val']:\n",
    "            if phase == 'train':\n",
    "                model.train()  # Set model to training mode\n",
    "            else:\n",
    "                model.eval()   # Set model to evaluate mode\n",
    "\n",
    "            running_loss = 0.0\n",
    "            running_corrects = 0\n",
    "\n",
    "            # Iterate over data.\n",
    "            for inputs, labels in dataloaders[phase]:\n",
    "                inputs = inputs.to(device)\n",
    "                labels = labels.to(device)\n",
    "                labels_one_hot = torch.zeros([labels.shape[0], 2])\n",
    "                labels_one_hot[:,0] = (labels==0)\n",
    "                labels_one_hot[:,1] = (labels==1)\n",
    "                labels_one_hot = labels_one_hot.to(device)\n",
    "\n",
    "                # zero the parameter gradients\n",
    "                optimizer.zero_grad()\n",
    "\n",
    "                # forward\n",
    "                # track history if only in train\n",
    "                with torch.set_grad_enabled(phase == 'train'):\n",
    "                    # Get model outputs and calculate loss\n",
    "                    # Special case for inception because in training it has an auxiliary output. In train\n",
    "                    #   mode we calculate the loss by summing the final output and the auxiliary output\n",
    "                    #   but in testing we only consider the final output.\n",
    "                    outputs = model(inputs)\n",
    "                    loss = criterion(outputs, labels_one_hot)\n",
    "\n",
    "                    _, preds = torch.max(outputs, 1)\n",
    "\n",
    "                    # backward + optimize only if in training phase\n",
    "                    if phase == 'train':\n",
    "                        loss.backward()\n",
    "                        optimizer.step()\n",
    "\n",
    "                # statistics\n",
    "                running_loss += loss.item() * inputs.size(0)\n",
    "                running_corrects += torch.sum(preds == labels.data)\n",
    "\n",
    "            epoch_loss = running_loss / len(dataloaders[phase].dataset)\n",
    "            epoch_acc = running_corrects.double() / len(dataloaders[phase].dataset)\n",
    "\n",
    "            print('{} Loss: {:.4f} Acc: {:.4f}'.format(phase, epoch_loss, epoch_acc))\n",
    "\n",
    "            # deep copy the model\n",
    "            if phase == 'val' and epoch_acc > best_acc:\n",
    "                best_acc = epoch_acc\n",
    "                best_model_wts = copy.deepcopy(model.state_dict())\n",
    "            if phase == 'val':\n",
    "                val_acc_history.append(epoch_acc)\n",
    "\n",
    "        print()\n",
    "\n",
    "    time_elapsed = time.time() - since\n",
    "    print('Training complete in {:.0f}m {:.0f}s'.format(time_elapsed // 60, time_elapsed % 60))\n",
    "    print('Best val Acc: {:4f}'.format(best_acc))\n",
    "\n",
    "    # load best model weights\n",
    "    model.load_state_dict(best_model_wts)\n",
    "    return model, val_acc_history\n",
    "\n",
    "\n"
   ]
  },
  {
   "cell_type": "code",
   "execution_count": 8,
   "metadata": {},
   "outputs": [
    {
     "name": "stdout",
     "output_type": "stream",
     "text": [
      "Epoch 0/29\n",
      "----------\n"
     ]
    },
    {
     "name": "stderr",
     "output_type": "stream",
     "text": [
      "/home/pyushkevich/miniconda3/lib/python3.7/site-packages/torch/nn/modules/upsampling.py:129: UserWarning: nn.Upsample is deprecated. Use nn.functional.interpolate instead.\n",
      "  warnings.warn(\"nn.{} is deprecated. Use nn.functional.interpolate instead.\".format(self.name))\n"
     ]
    },
    {
     "name": "stdout",
     "output_type": "stream",
     "text": [
      "train Loss: 0.3763 Acc: 0.8700\n",
      "val Loss: 0.2762 Acc: 0.9090\n",
      "\n",
      "Epoch 1/29\n",
      "----------\n",
      "train Loss: 0.2923 Acc: 0.8998\n",
      "val Loss: 0.2829 Acc: 0.9130\n",
      "\n",
      "Epoch 2/29\n",
      "----------\n",
      "train Loss: 0.2791 Acc: 0.9038\n",
      "val Loss: 0.2483 Acc: 0.9205\n",
      "\n",
      "Epoch 3/29\n",
      "----------\n",
      "train Loss: 0.2503 Acc: 0.9083\n",
      "val Loss: 0.1920 Acc: 0.9400\n",
      "\n",
      "Epoch 4/29\n",
      "----------\n",
      "train Loss: 0.2437 Acc: 0.9150\n",
      "val Loss: 0.2253 Acc: 0.9230\n",
      "\n",
      "Epoch 5/29\n",
      "----------\n",
      "train Loss: 0.2453 Acc: 0.9123\n",
      "val Loss: 0.1723 Acc: 0.9460\n",
      "\n",
      "Epoch 6/29\n",
      "----------\n",
      "train Loss: 0.2401 Acc: 0.9130\n",
      "val Loss: 0.1783 Acc: 0.9460\n",
      "\n",
      "Epoch 7/29\n",
      "----------\n",
      "train Loss: 0.2225 Acc: 0.9160\n",
      "val Loss: 0.1743 Acc: 0.9490\n",
      "\n",
      "Epoch 8/29\n",
      "----------\n",
      "train Loss: 0.2342 Acc: 0.9125\n",
      "val Loss: 0.1636 Acc: 0.9510\n",
      "\n",
      "Epoch 9/29\n",
      "----------\n",
      "train Loss: 0.2189 Acc: 0.9198\n",
      "val Loss: 0.1652 Acc: 0.9550\n",
      "\n",
      "Epoch 10/29\n",
      "----------\n",
      "train Loss: 0.2212 Acc: 0.9178\n",
      "val Loss: 0.1925 Acc: 0.9460\n",
      "\n",
      "Epoch 11/29\n",
      "----------\n",
      "train Loss: 0.2120 Acc: 0.9287\n",
      "val Loss: 0.1424 Acc: 0.9570\n",
      "\n",
      "Epoch 12/29\n",
      "----------\n",
      "train Loss: 0.2083 Acc: 0.9208\n",
      "val Loss: 0.1708 Acc: 0.9445\n",
      "\n",
      "Epoch 13/29\n",
      "----------\n",
      "train Loss: 0.2129 Acc: 0.9220\n",
      "val Loss: 0.1458 Acc: 0.9575\n",
      "\n",
      "Epoch 14/29\n",
      "----------\n",
      "train Loss: 0.2047 Acc: 0.9290\n",
      "val Loss: 0.1549 Acc: 0.9520\n",
      "\n",
      "Epoch 15/29\n",
      "----------\n",
      "train Loss: 0.2034 Acc: 0.9258\n",
      "val Loss: 0.1918 Acc: 0.9415\n",
      "\n",
      "Epoch 16/29\n",
      "----------\n",
      "train Loss: 0.2042 Acc: 0.9248\n",
      "val Loss: 0.1460 Acc: 0.9555\n",
      "\n",
      "Epoch 17/29\n",
      "----------\n",
      "train Loss: 0.1994 Acc: 0.9285\n",
      "val Loss: 0.1450 Acc: 0.9565\n",
      "\n",
      "Epoch 18/29\n",
      "----------\n",
      "train Loss: 0.2025 Acc: 0.9203\n",
      "val Loss: 0.1382 Acc: 0.9565\n",
      "\n",
      "Epoch 19/29\n",
      "----------\n",
      "train Loss: 0.1921 Acc: 0.9287\n",
      "val Loss: 0.1505 Acc: 0.9510\n",
      "\n",
      "Epoch 20/29\n",
      "----------\n",
      "train Loss: 0.1888 Acc: 0.9310\n",
      "val Loss: 0.1410 Acc: 0.9575\n",
      "\n",
      "Epoch 21/29\n",
      "----------\n",
      "train Loss: 0.1972 Acc: 0.9268\n",
      "val Loss: 0.1620 Acc: 0.9565\n",
      "\n",
      "Epoch 22/29\n",
      "----------\n",
      "train Loss: 0.1872 Acc: 0.9250\n",
      "val Loss: 0.1468 Acc: 0.9550\n",
      "\n",
      "Epoch 23/29\n",
      "----------\n",
      "train Loss: 0.1966 Acc: 0.9218\n",
      "val Loss: 0.1427 Acc: 0.9590\n",
      "\n",
      "Epoch 24/29\n",
      "----------\n",
      "train Loss: 0.1871 Acc: 0.9347\n",
      "val Loss: 0.1434 Acc: 0.9550\n",
      "\n",
      "Epoch 25/29\n",
      "----------\n",
      "train Loss: 0.1918 Acc: 0.9287\n",
      "val Loss: 0.2061 Acc: 0.9315\n",
      "\n",
      "Epoch 26/29\n",
      "----------\n",
      "train Loss: 0.1826 Acc: 0.9325\n",
      "val Loss: 0.1384 Acc: 0.9575\n",
      "\n",
      "Epoch 27/29\n",
      "----------\n",
      "train Loss: 0.1795 Acc: 0.9360\n",
      "val Loss: 0.1337 Acc: 0.9640\n",
      "\n",
      "Epoch 28/29\n",
      "----------\n",
      "train Loss: 0.1930 Acc: 0.9333\n",
      "val Loss: 0.1326 Acc: 0.9595\n",
      "\n",
      "Epoch 29/29\n",
      "----------\n",
      "train Loss: 0.1780 Acc: 0.9327\n",
      "val Loss: 0.1436 Acc: 0.9550\n",
      "\n",
      "Training complete in 65m 32s\n",
      "Best val Acc: 0.964000\n"
     ]
    }
   ],
   "source": [
    "# Train and evaluate\n",
    "model_ft, hist = train_model(model, dataloaders_dict, criterion, optimizer, num_epochs=30)\n",
    "\n",
    "\n",
    "\n"
   ]
  },
  {
   "cell_type": "code",
   "execution_count": 10,
   "metadata": {},
   "outputs": [],
   "source": [
    "model_dir=\"/home/pyushkevich/resnet/thon2019/exp01/%s\" % (fold,)\n",
    "os.makedirs(model_dir)\n",
    "torch.save(model_ft.state_dict(),os.path.join(model_dir, \"my_wildcat_50_30epoch_k02_upsample.dat\"))"
   ]
  },
  {
   "cell_type": "code",
   "execution_count": 11,
   "metadata": {},
   "outputs": [
    {
     "data": {
      "text/plain": [
       "[<matplotlib.lines.Line2D at 0x7f64e27dadd8>]"
      ]
     },
     "execution_count": 11,
     "metadata": {},
     "output_type": "execute_result"
    },
    {
     "data": {
      "image/png": "[encoded data removed]",
      "text/plain": [
       "<Figure size 432x288 with 1 Axes>"
      ]
     },
     "metadata": {
      "needs_background": "light"
     },
     "output_type": "display_data"
    }
   ],
   "source": [
    "plt.plot(hist)"
   ]
  },
  {
   "cell_type": "code",
   "execution_count": 12,
   "metadata": {},
   "outputs": [],
   "source": [
    "del model_ft\n",
    "torch.cuda.empty_cache()"
   ]
  },
  {
   "cell_type": "code",
   "execution_count": 14,
   "metadata": {},
   "outputs": [
    {
     "name": "stdout",
     "output_type": "stream",
     "text": [
      "Wed Oct  2 02:05:29 2019       \n",
      "+-----------------------------------------------------------------------------+\n",
      "| NVIDIA-SMI 430.26       Driver Version: 430.26       CUDA Version: 10.2     |\n",
      "|-------------------------------+----------------------+----------------------+\n",
      "| GPU  Name        Persistence-M| Bus-Id        Disp.A | Volatile Uncorr. ECC |\n",
      "| Fan  Temp  Perf  Pwr:Usage/Cap|         Memory-Usage | GPU-Util  Compute M. |\n",
      "|===============================+======================+======================|\n",
      "|   0  Tesla P100-PCIE...  Off  | 00000000:00:04.0 Off |                    0 |\n",
      "| N/A   41C    P0    34W / 250W |   6606MiB / 16280MiB |      0%      Default |\n",
      "+-------------------------------+----------------------+----------------------+\n",
      "                                                                               \n",
      "+-----------------------------------------------------------------------------+\n",
      "| Processes:                                                       GPU Memory |\n",
      "|  GPU       PID   Type   Process name                             Usage      |\n",
      "|=============================================================================|\n",
      "|    0     14830      C   /home/pyushkevich/miniconda3/bin/python     4521MiB |\n",
      "|    0     17496      C   /home/pyushkevich/miniconda3/bin/python     2075MiB |\n",
      "+-----------------------------------------------------------------------------+\n"
     ]
    }
   ],
   "source": [
    "!nvidia-smi"
   ]
  },
  {
   "cell_type": "code",
   "execution_count": null,
   "metadata": {},
   "outputs": [],
   "source": []
  }
 ],
 "metadata": {
  "kernelspec": {
   "display_name": "Python 3",
   "language": "python",
   "name": "python3"
  },
  "language_info": {
   "codemirror_mode": {
    "name": "ipython",
    "version": 3
   },
   "file_extension": ".py",
   "mimetype": "text/x-python",
   "name": "python",
   "nbconvert_exporter": "python",
   "pygments_lexer": "ipython3",
   "version": "3.6.9"
  }
 },
 "nbformat": 4,
 "nbformat_minor": 4
}
